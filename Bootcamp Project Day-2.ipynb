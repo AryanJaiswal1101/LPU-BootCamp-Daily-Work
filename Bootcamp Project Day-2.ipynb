{
 "cells": [
  {
   "cell_type": "code",
   "execution_count": 10,
   "metadata": {},
   "outputs": [
    {
     "data": {
      "text/plain": [
       "'Buddy says woof!'"
      ]
     },
     "execution_count": 10,
     "metadata": {},
     "output_type": "execute_result"
    }
   ],
   "source": [
    "# Question 1: What is a Class in Python?\n",
    "# Answer: A class in Python is a blueprint for creating objects. It defines a set of attributes and methods that the created objects will have.\n",
    "\n",
    "class Dog:\n",
    "    def __init__(self, name, age):\n",
    "        self.name = name\n",
    "        self.age = age\n",
    "\n",
    "    def bark(self):\n",
    "        return f\"{self.name} says woof!\"\n",
    "\n",
    "# Creating an instance of the class\n",
    "my_dog = Dog(\"Buddy\", 3)\n",
    "my_dog.bark()\n"
   ]
  },
  {
   "cell_type": "code",
   "execution_count": 11,
   "metadata": {},
   "outputs": [
    {
     "data": {
      "text/plain": [
       "('Canis familiaris', 'Canis familiaris', 'Buddy', 'Lucy')"
      ]
     },
     "execution_count": 11,
     "metadata": {},
     "output_type": "execute_result"
    }
   ],
   "source": [
    "# Question 2: What is the difference between a class attribute and an instance attribute?\n",
    "# Answer: Class attributes are shared by all instances of the class, while instance attributes are specific to each object instance.\n",
    "\n",
    "class Dog:\n",
    "    species = \"Canis familiaris\"  # Class attribute\n",
    "\n",
    "    def __init__(self, name, age):\n",
    "        self.name = name  # Instance attribute\n",
    "        self.age = age    # Instance attribute\n",
    "\n",
    "# Creating instances of the class\n",
    "dog1 = Dog(\"Buddy\", 3)\n",
    "dog2 = Dog(\"Lucy\", 5)\n",
    "\n",
    "(dog1.species, dog2.species, dog1.name, dog2.name)\n"
   ]
  },
  {
   "cell_type": "code",
   "execution_count": 12,
   "metadata": {},
   "outputs": [
    {
     "data": {
      "text/plain": [
       "('Buddy says woof!', 'Whiskers says meow!')"
      ]
     },
     "execution_count": 12,
     "metadata": {},
     "output_type": "execute_result"
    }
   ],
   "source": [
    "# Question 3: What is Inheritance in Python?\n",
    "# Answer: Inheritance allows a class (called a child or subclass) to inherit attributes and methods from another class (called a parent or superclass). This promotes code reuse and can lead to a more logical program structure.\n",
    "\n",
    "class Animal:\n",
    "    def __init__(self, name):\n",
    "        self.name = name\n",
    "\n",
    "    def speak(self):\n",
    "        raise NotImplementedError(\"Subclass must implement this method\")\n",
    "\n",
    "class Dog(Animal):\n",
    "    def speak(self):\n",
    "        return f\"{self.name} says woof!\"\n",
    "\n",
    "class Cat(Animal):\n",
    "    def speak(self):\n",
    "        return f\"{self.name} says meow!\"\n",
    "\n",
    "# Creating instances of the subclasses\n",
    "dog = Dog(\"Buddy\")\n",
    "cat = Cat(\"Whiskers\")\n",
    "\n",
    "(dog.speak(), cat.speak())\n"
   ]
  },
  {
   "cell_type": "code",
   "execution_count": 13,
   "metadata": {},
   "outputs": [
    {
     "data": {
      "text/plain": [
       "('Woof!', 'Meow!')"
      ]
     },
     "execution_count": 13,
     "metadata": {},
     "output_type": "execute_result"
    }
   ],
   "source": [
    "# Question 4: What is Polymorphism in Python?\n",
    "# Answer: Polymorphism allows different classes to be treated as instances of the same class through a common interface. It means \"many shapes\" and is implemented by method overriding in Python.\n",
    "\n",
    "class Animal:\n",
    "    def speak(self):\n",
    "        pass\n",
    "\n",
    "class Dog(Animal):\n",
    "    def speak(self):\n",
    "        return \"Woof!\"\n",
    "\n",
    "class Cat(Animal):\n",
    "    def speak(self):\n",
    "        return \"Meow!\"\n",
    "\n",
    "def make_animal_speak(animal):\n",
    "    return animal.speak()\n",
    "\n",
    "# Using polymorphism\n",
    "dog = Dog()\n",
    "cat = Cat()\n",
    "\n",
    "(make_animal_speak(dog), make_animal_speak(cat))\n"
   ]
  },
  {
   "cell_type": "code",
   "execution_count": 14,
   "metadata": {},
   "outputs": [
    {
     "data": {
      "text/plain": [
       "100"
      ]
     },
     "execution_count": 14,
     "metadata": {},
     "output_type": "execute_result"
    }
   ],
   "source": [
    "# Question 5: What is Encapsulation in Python?\n",
    "# Answer: Encapsulation is the mechanism of restricting access to some of an object's components. This is often used to prevent accidental interference and is implemented by using private variables and methods.\n",
    "\n",
    "class Car:\n",
    "    def __init__(self, make, model):\n",
    "        self.make = make\n",
    "        self.model = model\n",
    "        self.__mileage = 0  # Private attribute\n",
    "\n",
    "    def drive(self, miles):\n",
    "        if miles > 0:\n",
    "            self.__mileage += miles\n",
    "\n",
    "    def get_mileage(self):\n",
    "        return self.__mileage\n",
    "\n",
    "# Creating an instance of the class\n",
    "my_car = Car(\"Toyota\", \"Corolla\")\n",
    "my_car.drive(100)\n",
    "my_car.get_mileage()\n"
   ]
  },
  {
   "cell_type": "code",
   "execution_count": 15,
   "metadata": {},
   "outputs": [
    {
     "data": {
      "text/plain": [
       "('Alice', 30)"
      ]
     },
     "execution_count": 15,
     "metadata": {},
     "output_type": "execute_result"
    }
   ],
   "source": [
    "# Question 6: What is a constructor in Python?\n",
    "# Answer: A constructor is a special method in a class that is called when an object is instantiated. The `__init__` method in Python is the constructor.\n",
    "\n",
    "class Person:\n",
    "    def __init__(self, name, age):\n",
    "        self.name = name\n",
    "        self.age = age\n",
    "\n",
    "# Creating an instance of the class\n",
    "person = Person(\"Alice\", 30)\n",
    "(person.name, person.age)\n"
   ]
  },
  {
   "cell_type": "code",
   "execution_count": 16,
   "metadata": {},
   "outputs": [
    {
     "data": {
      "text/plain": [
       "50000"
      ]
     },
     "execution_count": 16,
     "metadata": {},
     "output_type": "execute_result"
    }
   ],
   "source": [
    "# Question 7: How do you create a private attribute in Python?\n",
    "# Answer: Private attributes in Python are created by prefixing the attribute name with double underscores `__`.\n",
    "\n",
    "class Employee:\n",
    "    def __init__(self, name, salary):\n",
    "        self.name = name\n",
    "        self.__salary = salary  # Private attribute\n",
    "\n",
    "    def get_salary(self):\n",
    "        return self.__salary\n",
    "\n",
    "# Creating an instance of the class\n",
    "employee = Employee(\"Bob\", 50000)\n",
    "employee.get_salary()\n",
    "# employee.__salary  # This would raise an AttributeError\n"
   ]
  },
  {
   "cell_type": "code",
   "execution_count": 17,
   "metadata": {},
   "outputs": [
    {
     "data": {
      "text/plain": [
       "'Car engine started'"
      ]
     },
     "execution_count": 17,
     "metadata": {},
     "output_type": "execute_result"
    }
   ],
   "source": [
    "# Question 8: What is method overriding in Python?\n",
    "# Answer: Method overriding allows a subclass to provide a specific implementation of a method that is already defined in its superclass.\n",
    "\n",
    "class Vehicle:\n",
    "    def start_engine(self):\n",
    "        return \"Engine started\"\n",
    "\n",
    "class Car(Vehicle):\n",
    "    def start_engine(self):\n",
    "        return \"Car engine started\"\n",
    "\n",
    "# Creating an instance of the subclass\n",
    "my_car = Car()\n",
    "my_car.start_engine()\n"
   ]
  },
  {
   "cell_type": "code",
   "execution_count": 18,
   "metadata": {},
   "outputs": [
    {
     "data": {
      "text/plain": [
       "(3, 6)"
      ]
     },
     "execution_count": 18,
     "metadata": {},
     "output_type": "execute_result"
    }
   ],
   "source": [
    "# Question 9: What is method overloading in Python?\n",
    "# Answer: Python does not support traditional method overloading as in some other programming languages. However, you can achieve similar functionality using default arguments or variable-length arguments.\n",
    "\n",
    "class Math:\n",
    "    def add(self, a, b, c=0):\n",
    "        return a + b + c\n",
    "\n",
    "# Creating an instance of the class\n",
    "math = Math()\n",
    "(math.add(1, 2), math.add(1, 2, 3))\n"
   ]
  }
 ],
 "metadata": {
  "kernelspec": {
   "display_name": "Python 3",
   "language": "python",
   "name": "python3"
  },
  "language_info": {
   "codemirror_mode": {
    "name": "ipython",
    "version": 3
   },
   "file_extension": ".py",
   "mimetype": "text/x-python",
   "name": "python",
   "nbconvert_exporter": "python",
   "pygments_lexer": "ipython3",
   "version": "3.11.4"
  }
 },
 "nbformat": 4,
 "nbformat_minor": 2
}
