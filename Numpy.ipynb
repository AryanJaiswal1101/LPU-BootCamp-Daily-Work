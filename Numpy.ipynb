{
 "cells": [
  {
   "cell_type": "markdown",
   "metadata": {},
   "source": [
    "NumPy (Numerical Python) is a powerful library for numerical computing in Python. It provides support for arrays, matrices, and many mathematical functions to operate on these data structures efficiently. Here are some key theoretical concepts and features of NumPy:\n",
    "\n",
    "1. NumPy Arrays\n",
    "Array Creation: NumPy provides various functions to create arrays, such as array(), zeros(), ones(), arange(), and linspace().\n",
    "Array Types: NumPy arrays come in different dimensions:\n",
    "1D Arrays: Like lists but with enhanced capabilities.\n",
    "2D Arrays: Matrices.\n",
    "ND Arrays: Arrays with more than two dimensions.\n",
    "2. Array Operations\n",
    "Element-wise Operations: Operations are performed element-wise, making vectorized calculations faster and more efficient.\n",
    "Broadcasting: Allows NumPy to perform operations on arrays of different shapes. Smaller arrays are \"broadcast\" to larger arrays to perform element-wise operations.\n",
    "3. Indexing and Slicing\n",
    "Basic Indexing: Similar to Python lists, using square brackets.\n",
    "Slicing: Subsets of arrays can be extracted using slicing, e.g., array[2:5].\n",
    "Advanced Indexing: Includes boolean indexing and fancy indexing with arrays of indices.\n",
    "4. Array Manipulation\n",
    "Reshaping: Changing the shape of an array without changing its data, e.g., reshape().\n",
    "Flattening: Converting a multi-dimensional array into a 1D array, e.g., flatten().\n",
    "Concatenation and Splitting: Combining multiple arrays or splitting one array into multiple arrays using concatenate(), vstack(), hstack(), split(), etc.\n",
    "5. Mathematical Functions\n",
    "Universal Functions (ufuncs): Functions that operate element-wise on arrays, e.g., np.add(), np.subtract(), np.multiply(), np.divide().\n",
    "Aggregate Functions: Functions that perform a specific operation along an axis, e.g., sum(), mean(), std(), min(), max(), argmax(), argmin().\n",
    "6. Linear Algebra\n",
    "Matrix Multiplication: Using dot(), matmul(), or the @ operator.\n",
    "Determinants and Inverses: Calculated using linalg.det() and linalg.inv().\n",
    "Eigenvalues and Eigenvectors: Computed using linalg.eig().\n",
    "7. Random Number Generation\n",
    "Random Module: NumPy has a submodule numpy.random for generating random numbers and performing random sampling, e.g., rand(), randn(), random(), seed().\n",
    "8. Performance\n",
    "Vectorization: NumPy operations are implemented in C and Fortran, making them much faster than standard Python loops.\n",
    "Memory Efficiency: Arrays consume less memory than equivalent lists in Python.\n",
    "9. Integration with Other Libraries\n",
    "SciPy: Builds on NumPy for more advanced mathematical operations.\n",
    "Pandas: Uses NumPy arrays for data manipulation.\n",
    "Matplotlib: For plotting and visualization using NumPy arrays."
   ]
  },
  {
   "cell_type": "code",
   "execution_count": null,
   "metadata": {},
   "outputs": [],
   "source": [
    "#Question 1: How do you create a NumPy array?\n",
    "\n",
    "import numpy as np\n",
    "\n",
    "# Creating a 1D array\n",
    "array_1d = np.array([1, 2, 3, 4, 5])\n",
    "print(\"1D Array:\", array_1d)\n",
    "\n",
    "# Creating a 2D array\n",
    "array_2d = np.array([[1, 2, 3], [4, 5, 6]])\n",
    "print(\"2D Array:\\n\", array_2d)\n"
   ]
  },
  {
   "cell_type": "code",
   "execution_count": null,
   "metadata": {},
   "outputs": [],
   "source": [
    "#Question 2: How do you perform element-wise operations on NumPy arrays?\n",
    "#Answer: You can perform element-wise operations using standard arithmetic operators.\n",
    "\n",
    "import numpy as np\n",
    "\n",
    "array_1 = np.array([1, 2, 3])\n",
    "array_2 = np.array([4, 5, 6])\n",
    "\n",
    "# Element-wise addition\n",
    "add_result = array_1 + array_2\n",
    "print(\"Element-wise Addition:\", add_result)\n",
    "\n",
    "# Element-wise multiplication\n",
    "mul_result = array_1 * array_2\n",
    "print(\"Element-wise Multiplication:\", mul_result)\n"
   ]
  },
  {
   "cell_type": "code",
   "execution_count": 1,
   "metadata": {},
   "outputs": [],
   "source": [
    "#Question 3: How do you reshape a NumPy array?\n",
    "#Answer: You can use the reshape() method to change the shape of an array without changing its data.\n",
    "\n",
    "import numpy as np\n",
    "\n",
    "array = np.array([1, 2, 3, 4, 5, 6])\n",
    "reshaped_array = array.reshape((2, 3))\n",
    "print(\"Reshaped Array:\\n\", reshaped_array)\n"
   ]
  },
  {
   "cell_type": "code",
   "execution_count": null,
   "metadata": {},
   "outputs": [],
   "source": [
    "#Question 4: How do you find the mean and standard deviation of a NumPy array?\n",
    "#Answer: You can use the mean() and std() methods to find the mean and standard deviation, respectively.\n",
    "\n",
    "import numpy as np\n",
    "\n",
    "array = np.array([1, 2, 3, 4, 5, 6])\n",
    "\n",
    "# Calculating mean\n",
    "mean_value = np.mean(array)\n",
    "print(\"Mean:\", mean_value)\n",
    "\n",
    "# Calculating standard deviation\n",
    "std_value = np.std(array)\n",
    "print(\"Standard Deviation:\", std_value)\n"
   ]
  },
  {
   "cell_type": "code",
   "execution_count": null,
   "metadata": {},
   "outputs": [],
   "source": [
    "#Question 5: How do you filter elements of a NumPy array based on a condition?\n",
    "#Answer: You can use boolean indexing to filter elements that meet a certain condition.\n",
    "\n",
    "import numpy as np\n",
    "\n",
    "array = np.array([1, 2, 3, 4, 5, 6])\n",
    "\n",
    "# Filtering elements greater than 3\n",
    "filtered_array = array[array > 3]\n",
    "print(\"Filtered Array:\", filtered_array)\n"
   ]
  }
 ],
 "metadata": {
  "kernelspec": {
   "display_name": "Python 3",
   "language": "python",
   "name": "python3"
  },
  "language_info": {
   "codemirror_mode": {
    "name": "ipython",
    "version": 3
   },
   "file_extension": ".py",
   "mimetype": "text/x-python",
   "name": "python",
   "nbconvert_exporter": "python",
   "pygments_lexer": "ipython3",
   "version": "3.11.4"
  }
 },
 "nbformat": 4,
 "nbformat_minor": 2
}
