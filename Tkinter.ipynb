{
 "cells": [
  {
   "cell_type": "markdown",
   "metadata": {},
   "source": [
    "Introduction to Tkinter\n",
    "Tkinter is the standard GUI (Graphical User Interface) library for Python. It provides a powerful and easy-to-use toolkit for creating graphical applications. Tkinter is included with standard Linux, Windows, and Mac OS X installations of Python, which means you don’t need to install anything extra to start using it. It is a thin object-oriented layer on top of the Tcl/Tk GUI toolkit.\n",
    "\n",
    "Key Features of Tkinter:\n",
    "Cross-platform: Tkinter applications run on Windows, Mac, and Linux without modification.\n",
    "Ease of use: It is simple to create basic GUI elements and connect them with Python code.\n",
    "Comprehensive widget set: Tkinter offers a variety of widgets, like buttons, labels, text boxes, menus, etc.\n",
    "Event-driven programming: Tkinter applications are event-driven; they wait for user actions and respond to them."
   ]
  },
  {
   "cell_type": "code",
   "execution_count": null,
   "metadata": {},
   "outputs": [],
   "source": [
    "import tkinter as tk\n",
    "\n",
    "root = tk.Tk()\n",
    "root.title(\"My First Tkinter Window\")\n",
    "root.geometry(\"300x200\")  # Set the window size\n",
    "\n",
    "root.mainloop()\n"
   ]
  },
  {
   "cell_type": "markdown",
   "metadata": {},
   "source": [
    "Types of Tkinter Widgets\n",
    "Tkinter provides a range of widgets to build GUI applications. Here are some of the most commonly used widgets:\n",
    "\n",
    "Label: Used to display text or images.\n",
    "Button: Used to perform an action when clicked.\n",
    "Entry: A single-line text entry field.\n",
    "Text: A multi-line text entry field.\n",
    "Radiobutton: Allows the user to select one option from a set.\n",
    "Checkbutton: Allows the user to select multiple options from a set.\n",
    "Listbox: Displays a list of options for the user to select.\n",
    "Canvas: A drawing area for shapes, lines, and images.\n",
    "Frame: A container widget used to group other widgets.\n",
    "Menu: Used to create menu bars, pull-down menus, and pop-up menus.\n",
    "Scale: A slider widget for selecting a numerical value"
   ]
  },
  {
   "cell_type": "markdown",
   "metadata": {},
   "source": [
    "Tkinter is a versatile toolkit for creating graphical user interfaces (GUIs) in Python, and it is commonly used for a wide range of applications. Here are some common use cases for Tkinter:\n",
    "\n",
    "Educational Tools:\n",
    "\n",
    "Learning Applications: Applications that help with educational tasks, such as math tutors or spelling games.\n",
    "Interactive Tutorials: Tools that provide step-by-step instructions and interactive elements for learning new concepts.\n",
    "Data Entry Forms:\n",
    "\n",
    "Survey Forms: Collecting user input through various form fields like text boxes, radio buttons, and checkboxes.\n",
    "Database Management: Interfaces for adding, updating, and deleting records in a database.\n",
    "File Management Tools:\n",
    "\n",
    "File Browsers: Applications to navigate and manage files and directories on the system.\n",
    "File Conversion Tools: Tools that allow users to convert files from one format to another.\n",
    "Simple Games:\n",
    "\n",
    "Puzzle Games: Creating games like Tic-Tac-Toe, Sudoku, or simple card games.\n",
    "Educational Games: Games that combine learning with fun activities, such as quizzes or memory games.\n",
    "Data Visualization:\n",
    "\n",
    "Plotting Graphs: Applications that plot graphs and charts from data, useful for scientific and business applications.\n",
    "Real-time Data Visualization: Tools that display real-time data, such as stock prices or sensor readings.\n",
    "Text Editors:\n"
   ]
  },
  {
   "cell_type": "code",
   "execution_count": null,
   "metadata": {},
   "outputs": [],
   "source": [
    "import tkinter as tk\n",
    "\n",
    "def on_click():\n",
    "    print(\"Button Clicked!\")\n",
    "\n",
    "root = tk.Tk()\n",
    "root.title(\"Button Example\")\n",
    "\n",
    "button = tk.Button(root, text=\"Click Me\", command=on_click)\n",
    "button.pack(pady=20)\n",
    "\n",
    "root.mainloop()\n"
   ]
  },
  {
   "cell_type": "markdown",
   "metadata": {},
   "source": [
    "Explanation of the Example\n",
    "Importing Tkinter: The tkinter module is imported to use Tkinter’s functions and classes.\n",
    "Callback Function: The on_button_click function is defined to change the label text based on the entry widget's input when the button is clicked.\n",
    "Main Window: The main application window is created using tk.Tk().\n",
    "Widgets Creation: A label, entry, and button widget are created and packed into the window.\n",
    "Event Binding: The button widget is bound to the on_button_click callback function.\n",
    "Main Loop: The main loop (root.mainloop()) runs the application, waiting for events and updating the GUI."
   ]
  }
 ],
 "metadata": {
  "kernelspec": {
   "display_name": "Python 3",
   "language": "python",
   "name": "python3"
  },
  "language_info": {
   "name": "python",
   "version": "3.11.4"
  }
 },
 "nbformat": 4,
 "nbformat_minor": 2
}
