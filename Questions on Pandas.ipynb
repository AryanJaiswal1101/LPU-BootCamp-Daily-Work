{
 "cells": [
  {
   "cell_type": "markdown",
   "metadata": {},
   "source": [
    "- Pandas: A Library for Handling Structured Data in Python\n",
    "\n",
    "Pandas is a powerful and flexible Python library used for data manipulation and analysis. It is built on top of NumPy and provides data structures like Series and DataFrame, which make data analysis tasks easier and more efficient.\n",
    "\n",
    "Key features of Pandas include:\n",
    "1. DataFrames and Series: Pandas uses DataFrames (2D tables) and Series (1D arrays) to represent structured data, similar to tables in a database or Excel.\n",
    "2. Comprehensive Data Operations: Pandas provides tools for filtering, sorting, grouping, merging, concatenating, pivoting, and reshaping data.\n",
    "3. Handling Missing Data: Pandas offers various methods to detect and handle missing or null values.\n",
    "4. Integration with Other Libraries: Pandas integrates well with other Python libraries used in data science, such as NumPy, SciPy, and Matplotlib.\n",
    "\n",
    "Pandas is an essential tool for data science and analysis because it simplifies data manipulation, enhances productivity, and integrates with other data science libraries. By using Pandas, data scientists can focus more on analysis and modeling, confident that their data is properly structured and cleaned."
   ]
  },
  {
   "cell_type": "markdown",
   "metadata": {},
   "source": [
    "1. Create a DataFrame\n",
    "\n",
    "Q1: Create a DataFrame from a dictionary of lists. The dictionary should have keys 'Name', 'Age', 'City', and 'Salary'. Populate the DataFrame with at least 5 entries."
   ]
  },
  {
   "cell_type": "code",
   "execution_count": null,
   "metadata": {},
   "outputs": [],
   "source": [
    "import pandas as pd\n",
    "\n",
    "data = {'Name': ['Alice', 'Bob'], 'Age': [25, 30]}\n",
    "df = pd.DataFrame(data)\n",
    "\n",
    "print(df)\n"
   ]
  },
  {
   "cell_type": "markdown",
   "metadata": {},
   "source": [
    "2. Filter DataFrame\n",
    "\n",
    "Q2: Filter the DataFrame to show only the rows where the Age is greater than 25."
   ]
  },
  {
   "cell_type": "code",
   "execution_count": null,
   "metadata": {},
   "outputs": [],
   "source": [
    "# Filter the DataFrame\n",
    "filtered_df = df[df['Age'] > 25]\n",
    "\n",
    "# Display the filtered DataFrame\n",
    "print(filtered_df)"
   ]
  },
  {
   "cell_type": "markdown",
   "metadata": {},
   "source": [
    "3. Add a New Column\n",
    "\n",
    "Q3: Add a new column 'Bonus' to the DataFrame, where the bonus is 10% of the Salary."
   ]
  },
  {
   "cell_type": "code",
   "execution_count": null,
   "metadata": {},
   "outputs": [],
   "source": [
    "import pandas as pd\n",
    "\n",
    "data = {'Name': ['Alice', 'Bob', 'Charlie'], 'Age': [25, 30, 28]}\n",
    "df = pd.DataFrame(data)\n",
    "\n",
    "# Add a new column named 'Score' with a list of values\n",
    "df['Score'] = [90, 85, 75]\n",
    "\n",
    "print(df)\n"
   ]
  },
  {
   "cell_type": "markdown",
   "metadata": {},
   "source": [
    "4. Group By\n",
    "\n",
    "Q4: Group the DataFrame by 'City' and calculate the average Salary for each city."
   ]
  },
  {
   "cell_type": "code",
   "execution_count": null,
   "metadata": {},
   "outputs": [],
   "source": [
    "import pandas as pd\n",
    "\n",
    "data = {'Order ID': [100, 100, 101, 102, 102],\n",
    "        'Product': ['A', 'B', 'A', 'C', 'C'],\n",
    "        'Price': [10, 15, 8, 20, 25]}\n",
    "df = pd.DataFrame(data)\n",
    "\n",
    "# Group by 'Order ID' and calculate total price per order\n",
    "grouped_df = df.groupby('Order ID')['Price'].sum()\n",
    "\n",
    "print(grouped_df)\n"
   ]
  },
  {
   "cell_type": "markdown",
   "metadata": {},
   "source": [
    "5. Merge DataFrames\n",
    "\n",
    "Q5: Merge two DataFrames on the 'Name' column. The second DataFrame should have columns 'Name' and 'Department'."
   ]
  },
  {
   "cell_type": "code",
   "execution_count": null,
   "metadata": {},
   "outputs": [],
   "source": [
    "# Sample DataFrames (assuming 'CustomerID' is the common column)\n",
    "customer_data = {'CustomerID': [100, 101, 102], 'Name': ['Alice', 'Bob', 'Charlie']}\n",
    "order_data = {'CustomerID': [100, 102, 103], 'OrderID': [1000, 1002, 1004], 'Amount': [100, 200, 150]}\n",
    "\n",
    "df_customers = pd.DataFrame(customer_data)\n",
    "df_orders = pd.DataFrame(order_data)\n",
    "\n",
    "merged_df = pd.merge(df_customers, df_orders, on='CustomerID', how='left')  # Left join to keep all customers\n",
    "print(merged_df)\n"
   ]
  },
  {
   "cell_type": "markdown",
   "metadata": {},
   "source": [
    "6. Handle Missing Data\n",
    "\n",
    "Q6: Create a DataFrame with missing values and fill the missing values with the mean of the column."
   ]
  },
  {
   "cell_type": "markdown",
   "metadata": {},
   "source": [
    "import pandas as pd\n",
    "import numpy as np\n",
    "\n",
    "data = {'Name': ['Alice', 'Bob', np.nan, 'Charlie'],\n",
    "        'Age': [25, 30, np.nan, 28],\n",
    "        'Score': [90, 85, np.nan, 75]}\n",
    "df = pd.DataFrame(data)\n",
    "\n",
    "# Check for missing values\n",
    "print(df.isnull())\n",
    "\n",
    "# Drop rows with missing values (careful, data loss possible)\n",
    "# dropped_df = df.dropna()\n",
    "\n",
    "# Fill missing values with mean of 'Age' column\n",
    "df.fillna(df['Age'].mean(), inplace=True)\n",
    "\n",
    "# Forward fill 'Score' column (assuming scores are sequential)\n",
    "df['Score'].fillna(method='ffill', inplace=True)\n",
    "\n",
    "print(df)\n"
   ]
  },
  {
   "cell_type": "markdown",
   "metadata": {},
   "source": [
    "7. Pivot Table\n",
    "\n",
    "Q7: Create a pivot table from the original DataFrame showing the average Salary for each Age group."
   ]
  },
  {
   "cell_type": "code",
   "execution_count": null,
   "metadata": {},
   "outputs": [],
   "source": [
    "# Create a pivot table\n",
    "pivot_table = df.pivot_table(values='Salary', index='Age', aggfunc='mean')\n",
    "\n",
    "# Display the pivot table\n",
    "print(pivot_table)"
   ]
  },
  {
   "cell_type": "markdown",
   "metadata": {},
   "source": [
    "8. Apply Function\n",
    "\n",
    "Q8: Apply a custom function to the 'Salary' column that increases each salary by 5%."
   ]
  },
  {
   "cell_type": "code",
   "execution_count": null,
   "metadata": {},
   "outputs": [],
   "source": [
    "# Define a custom function\n",
    "def increase_salary(salary):\n",
    "    return salary * 1.05\n",
    "\n",
    "# Apply the custom function to the 'Salary' column\n",
    "df['Increased Salary'] = df['Salary'].apply(increase_salary)\n",
    "\n",
    "# Display the updated DataFrame\n",
    "print(df)"
   ]
  },
  {
   "cell_type": "markdown",
   "metadata": {},
   "source": [
    "9. Read and Write CSV\n",
    "\n",
    "Q9: Save the DataFrame to a CSV file and then read it back into a new DataFrame."
   ]
  },
  {
   "cell_type": "code",
   "execution_count": null,
   "metadata": {},
   "outputs": [],
   "source": [
    "import pandas as pd\n",
    "\n",
    "# Read a CSV file\n",
    "data = pd.read_csv('data.csv', delimiter=';')  # Assuming ';' as delimiter\n",
    "\n",
    "# Process or analyze the data in DataFrame 'data'\n",
    "\n",
    "# Write the DataFrame to a new CSV file\n",
    "data.to_csv('processed_data.csv')\n"
   ]
  },
  {
   "cell_type": "markdown",
   "metadata": {},
   "source": [
    "10. Multi-indexing\n",
    "\n",
    "Q10: Create a DataFrame with a multi-index (Name, City) and sort it by the index."
   ]
  },
  {
   "cell_type": "code",
   "execution_count": null,
   "metadata": {},
   "outputs": [],
   "source": [
    "# Create a DataFrame with a multi-index\n",
    "multi_index_df = df.set_index(['Name', 'City'])\n",
    "\n",
    "# Sort the DataFrame by the index\n",
    "sorted_multi_index_df = multi_index_df.sort_index()\n",
    "\n",
    "# Display the sorted multi-index DataFrame\n",
    "print(sorted_multi_index_df)"
   ]
  }
 ],
 "metadata": {
  "language_info": {
   "name": "python"
  }
 },
 "nbformat": 4,
 "nbformat_minor": 2
}
