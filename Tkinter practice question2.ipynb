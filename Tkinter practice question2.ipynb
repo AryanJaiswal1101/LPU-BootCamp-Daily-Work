{
 "cells": [
  {
   "cell_type": "code",
   "execution_count": null,
   "metadata": {},
   "outputs": [],
   "source": [
    "import tkinter as tk\n",
    "\n",
    "def on_button_click():\n",
    "    label.config(text=\"Button Clicked!\")\n",
    "\n",
    "root = tk.Tk()\n",
    "root.title(\"Button Example\")\n",
    "\n",
    "label = tk.Label(root, text=\"Click the Button\")\n",
    "label.pack(pady=10)\n",
    "\n",
    "button = tk.Button(root, text=\"Click Me\", command=on_button_click)\n",
    "button.pack(pady=10)\n",
    "\n",
    "root.mainloop()\n"
   ]
  },
  {
   "cell_type": "code",
   "execution_count": null,
   "metadata": {},
   "outputs": [],
   "source": [
    "import tkinter as tk\n",
    "\n",
    "def show_text():\n",
    "    entered_text = entry.get()\n",
    "    label.config(text=entered_text)\n",
    "\n",
    "root = tk.Tk()\n",
    "root.title(\"Text Entry Example\")\n",
    "\n",
    "entry = tk.Entry(root)\n",
    "entry.pack(pady=10)\n",
    "\n",
    "button = tk.Button(root, text=\"Show Text\", command=show_text)\n",
    "button.pack(pady=10)\n",
    "\n",
    "label = tk.Label(root, text=\"\")\n",
    "label.pack(pady=10)\n",
    "\n",
    "root.mainloop()\n"
   ]
  },
  {
   "cell_type": "code",
   "execution_count": null,
   "metadata": {},
   "outputs": [],
   "source": [
    "import tkinter as tk\n",
    "\n",
    "root = tk.Tk()\n",
    "root.title(\"Grid Layout Example\")\n",
    "\n",
    "label1 = tk.Label(root, text=\"Label 1\")\n",
    "label1.grid(row=0, column=0, padx=10, pady=10)\n",
    "\n",
    "label2 = tk.Label(root, text=\"Label 2\")\n",
    "label2.grid(row=0, column=1, padx=10, pady=10)\n",
    "\n",
    "entry = tk.Entry(root)\n",
    "entry.grid(row=1, column=0, columnspan=2, padx=10, pady=10)\n",
    "\n",
    "button = tk.Button(root, text=\"Click Me\")\n",
    "button.grid(row=2, column=0, columnspan=2, pady=10)\n",
    "\n",
    "root.mainloop()\n"
   ]
  },
  {
   "cell_type": "code",
   "execution_count": null,
   "metadata": {},
   "outputs": [],
   "source": [
    "import tkinter as tk\n",
    "\n",
    "root = tk.Tk()\n",
    "root.title(\"Listbox Example\")\n",
    "\n",
    "frame = tk.Frame(root)\n",
    "frame.pack(pady=10)\n",
    "\n",
    "scrollbar = tk.Scrollbar(frame, orient=tk.VERTICAL)\n",
    "listbox = tk.Listbox(frame, yscrollcommand=scrollbar.set)\n",
    "scrollbar.config(command=listbox.yview)\n",
    "scrollbar.pack(side=tk.RIGHT, fill=tk.Y)\n",
    "listbox.pack(side=tk.LEFT, fill=tk.BOTH, expand=True)\n",
    "\n",
    "for i in range(100):\n",
    "    listbox.insert(tk.END, f\"Item {i+1}\")\n",
    "\n",
    "root.mainloop()\n"
   ]
  },
  {
   "cell_type": "code",
   "execution_count": null,
   "metadata": {},
   "outputs": [],
   "source": [
    "import tkinter as tk\n",
    "from tkinter import messagebox\n",
    "\n",
    "def show_info():\n",
    "    messagebox.showinfo(\"Information\", \"This is an info message.\")\n",
    "\n",
    "root = tk.Tk()\n",
    "root.title(\"Messagebox Example\")\n",
    "\n",
    "button = tk.Button(root, text=\"Show Info\", command=show_info)\n",
    "button.pack(pady=10)\n",
    "\n",
    "root.mainloop()\n"
   ]
  },
  {
   "cell_type": "code",
   "execution_count": null,
   "metadata": {},
   "outputs": [],
   "source": [
    "import tkinter as tk\n",
    "\n",
    "# Create the main window\n",
    "root = tk.Tk()\n",
    "root.title(\"Hello, Tkinter!\")\n",
    "\n",
    "# Create a label widget\n",
    "label = tk.Label(root, text=\"Hello, Tkinter!\")\n",
    "label.pack(padx=20, pady=20)  # Add some padding around the label\n",
    "\n",
    "# Run the Tkinter event loop\n",
    "root.mainloop()\n"
   ]
  }
 ],
 "metadata": {
  "kernelspec": {
   "display_name": "Python 3",
   "language": "python",
   "name": "python3"
  },
  "language_info": {
   "name": "python",
   "version": "3.11.4"
  }
 },
 "nbformat": 4,
 "nbformat_minor": 2
}
