{
 "cells": [
  {
   "cell_type": "markdown",
   "metadata": {},
   "source": [
    "Introduction to NumPy\n",
    "\n",
    "NumPy (Numerical Python) is a fundamental package for scientific computing in Python. It provides support for arrays, which are collections of elements (usually numbers) that can be indexed and manipulated. NumPy arrays are more efficient and convenient than Python lists for numerical operations."
   ]
  },
  {
   "cell_type": "markdown",
   "metadata": {},
   "source": [
    "NumPy Arrays and Attributes\n",
    "\n",
    "NumPy arrays, or ndarrays (n-dimensional arrays), are central to the library. Key attributes of these arrays include:\n",
    "\n",
    "1. Shape: The dimensions of the array, represented as a tuple of integers.\n",
    "2. Size: The total number of elements in the array.\n",
    "3. dtype: The data type of the array elements (e.g., int32, float64)."
   ]
  },
  {
   "cell_type": "code",
   "execution_count": null,
   "metadata": {},
   "outputs": [],
   "source": [
    "import numpy as np\n",
    "\n",
    "# Create a list of numbers\n",
    "numbers = [1, 2, 3, 4, 5]\n",
    "\n",
    "# Convert the list to a NumPy array\n",
    "numbers_array = np.array(numbers)\n",
    "\n",
    "# Print the array\n",
    "print(numbers_array)\n",
    "\n",
    "# Find the shape of the array (number of dimensions and elements in each dimension)\n",
    "print(numbers_array.shape)\n",
    "\n",
    "# Find the data type of the elements in the array\n",
    "print(numbers_array.dtype)\n",
    "\n",
    "# Create a NumPy array with zeros\n",
    "zeros_array = np.zeros(5)  # Create an array with 5 zeros\n",
    "print(zeros_array)\n",
    "\n",
    "# Create a NumPy array with ones\n",
    "ones_array = np.ones((3, 4))  # Create a 3x4 array with ones\n",
    "print(ones_array)\n",
    "\n",
    "# Create a NumPy array with a specific value\n",
    "value_array = np.full((2, 2), 7)  # Create a 2x2 array with 7s\n",
    "print(value_array)\n",
    "\n",
    "# Perform basic operations on arrays\n",
    "sum_of_array = numbers_array.sum()\n",
    "average_of_array = numbers_array.mean()\n",
    "print(\"Sum of the array:\", sum_of_array)\n",
    "print(\"Average of the array:\", average_of_array)\n"
   ]
  },
  {
   "cell_type": "markdown",
   "metadata": {},
   "source": [
    "Functions to Create Arrays\n",
    "\n",
    "NumPy provides various functions to create arrays efficiently:\n",
    "\n",
    "np.array(): To create an array from a list or tuple.\n",
    "np.zeros(): To create an array filled with zeros.\n",
    "np.ones(): To create an array filled with ones.\n",
    "np.full(): To create an array filled with a specific value.\n",
    "np.arange(): To create an array with a range of values.\n",
    "np.linspace(): To create an array with a specified number of evenly spaced values.\n",
    "np.eye(): To create an identity matrix (2D array with ones on the diagonal and zeros elsewhere)."
   ]
  },
  {
   "cell_type": "code",
   "execution_count": null,
   "metadata": {},
   "outputs": [],
   "source": [
    "import numpy as np\n",
    "\n",
    "def create_array_from_list(data):\n",
    "  \"\"\"\n",
    "  Creates a NumPy array from a list.\n",
    "\n",
    "  Args:\n",
    "      data: A Python list containing the elements for the array.\n",
    "\n",
    "  Returns:\n",
    "      A NumPy array with the same elements as the input list.\n",
    "  \"\"\"\n",
    "  return np.array(data)\n",
    "\n",
    "# Example usage\n",
    "numbers_list = [1, 2, 3, 4, 5]\n",
    "numbers_array = create_array_from_list(numbers_list)\n",
    "print(numbers_array)\n"
   ]
  },
  {
   "cell_type": "markdown",
   "metadata": {},
   "source": [
    "NumPy Array Operators and Broadcasting\n",
    "\n",
    "NumPy supports element-wise operations and broadcasting. Broadcasting allows arithmetic operations on arrays of different shapes."
   ]
  },
  {
   "cell_type": "code",
   "execution_count": null,
   "metadata": {},
   "outputs": [],
   "source": [
    "import numpy as np\n",
    "\n",
    "arr1 = np.array([1, 2, 3])\n",
    "arr2 = np.array([4, 5, 6])\n",
    "\n",
    "# Addition, subtraction, multiplication\n",
    "added_array = arr1 + arr2\n",
    "difference_array = arr1 - arr2\n",
    "product_array = arr1 * arr2\n",
    "\n",
    "print(\"Added array:\", added_array)\n",
    "print(\"Difference array:\", difference_array)\n",
    "print(\"Product array:\", product_array)\n"
   ]
  },
  {
   "cell_type": "markdown",
   "metadata": {},
   "source": [
    "Element-wise Operations and Efficiency\n",
    "\n",
    "Element-wise operations in NumPy are highly efficient due to vectorization, which eliminates the need for explicit loops."
   ]
  },
  {
   "cell_type": "code",
   "execution_count": null,
   "metadata": {},
   "outputs": [],
   "source": [
    "import numpy as np\n",
    "\n",
    "arr1 = np.array([1, 2, 3])\n",
    "arr2 = np.array([4, 5, 6])\n",
    "\n",
    "# Addition, subtraction, and multiplication\n",
    "added_array = arr1 + arr2\n",
    "difference_array = arr1 - arr2\n",
    "product_array = arr1 * arr2\n",
    "\n",
    "print(\"Added array:\", added_array)\n",
    "print(\"Difference array:\", difference_array)\n",
    "print(\"Product array:\", product_array)\n"
   ]
  },
  {
   "cell_type": "markdown",
   "metadata": {},
   "source": [
    "Indexing and Slicing\n",
    "\n",
    "NumPy arrays support sophisticated indexing and slicing techniques, similar to Python lists but with more power and flexibility."
   ]
  },
  {
   "cell_type": "code",
   "execution_count": null,
   "metadata": {},
   "outputs": [],
   "source": [
    "import numpy as np\n",
    "\n",
    "arr = np.array([10, 20, 30, 40, 50])\n",
    "\n",
    "# Accessing the first and third elements\n",
    "first_element = arr[0]\n",
    "third_element = arr[2]\n",
    "\n",
    "print(\"First element:\", first_element)\n",
    "print(\"Third element:\", third_element)\n",
    "t"
   ]
  },
  {
   "cell_type": "markdown",
   "metadata": {},
   "source": [
    "Array Manipulation\n",
    "\n",
    "NumPy provides functions to manipulate arrays, such as reshaping, flattening, concatenating, stacking, and splitting."
   ]
  },
  {
   "cell_type": "markdown",
   "metadata": {},
   "source": [
    "1. Reshaping"
   ]
  },
  {
   "cell_type": "code",
   "execution_count": null,
   "metadata": {},
   "outputs": [],
   "source": [
    "import numpy as np\n",
    "\n",
    "arr = np.array([1, 2, 3, 4, 5, 6])\n",
    "reshaped_array = arr.reshape(2, 3)  # Reshape to a 2x3 matrix\n",
    "print(reshaped_array)\n"
   ]
  },
  {
   "cell_type": "markdown",
   "metadata": {},
   "source": [
    "2. Flattening "
   ]
  },
  {
   "cell_type": "code",
   "execution_count": null,
   "metadata": {},
   "outputs": [],
   "source": [
    "import numpy as np\n",
    "\n",
    "# Create a 2D array\n",
    "arr = np.array([[1, 2, 3], [4, 5, 6]])\n",
    "\n",
    "# Flatten the array\n",
    "flattened_array = arr.ravel()\n",
    "print(flattened_array)\n"
   ]
  },
  {
   "cell_type": "markdown",
   "metadata": {},
   "source": [
    "3. Concatenation "
   ]
  },
  {
   "cell_type": "code",
   "execution_count": null,
   "metadata": {},
   "outputs": [],
   "source": [
    "import numpy as np\n",
    "\n",
    "arr1 = np.array([1, 2, 3])\n",
    "arr2 = np.array([4, 5, 6])\n",
    "\n",
    "# Concatenate along axis 0 (vertically)\n",
    "concatenated_array = np.concatenate((arr1, arr2))\n",
    "print(concatenated_array)\n",
    "\n",
    "# Concatenate along axis 1 (horizontally)\n",
    "concatenated_array = np.concatenate((arr1.reshape(1, 3), arr2.reshape(1, 3)), axis=1)\n",
    "print(concatenated_array)\n",
    "i"
   ]
  },
  {
   "cell_type": "markdown",
   "metadata": {},
   "source": [
    "4. Stacking "
   ]
  },
  {
   "cell_type": "code",
   "execution_count": null,
   "metadata": {},
   "outputs": [],
   "source": [
    "import numpy as np\n",
    "\n",
    "arr1 = np.array([1, 2, 3])\n",
    "arr2 = np.array([4, 5, 6])\n",
    "\n",
    "# Stack vertically (column-wise) by default\n",
    "stacked_array = np.stack((arr1, arr2))\n",
    "print(stacked_array, \"\\n\")\n",
    "\n",
    "# Stack horizontally (row-wise)\n",
    "stacked_array = np.stack((arr1, arr2), axis=1)\n",
    "print(stacked_array)\n"
   ]
  },
  {
   "cell_type": "markdown",
   "metadata": {},
   "source": [
    "5. Splitting"
   ]
  },
  {
   "cell_type": "code",
   "execution_count": null,
   "metadata": {},
   "outputs": [],
   "source": [
    "import numpy as np\n",
    "\n",
    "arr = np.arange(10)\n",
    "\n",
    "# Splitting into two sub-arrays\n",
    "split_array = np.split(arr, 2)\n",
    "print(split_array)\n",
    "\n",
    "# Splitting at specific indices\n",
    "split_points = [3, 7]\n",
    "split_array = np.split(arr, split_points)\n",
    "print(split_array)\n"
   ]
  },
  {
   "cell_type": "markdown",
   "metadata": {},
   "source": [
    "Methods for Adding and Removing Elements\n",
    "\n",
    "NumPy provides functions to add or remove elements from arrays."
   ]
  },
  {
   "cell_type": "markdown",
   "metadata": {},
   "source": [
    "1. Adding elements"
   ]
  },
  {
   "cell_type": "code",
   "execution_count": null,
   "metadata": {},
   "outputs": [],
   "source": [
    "import numpy as np\n",
    "\n",
    "arr = np.array([1, 2, 3])\n",
    "new_element = 4\n",
    "\n",
    "# Concatenate the element as a 1D array along axis 0 (vertically)\n",
    "concatenated_array = np.concatenate((arr, np.array([new_element])), axis=0)\n",
    "print(concatenated_array)  # Output: [1 2 3 4]\n"
   ]
  },
  {
   "cell_type": "markdown",
   "metadata": {},
   "source": [
    "2. Removing elements"
   ]
  },
  {
   "cell_type": "code",
   "execution_count": null,
   "metadata": {},
   "outputs": [],
   "source": [
    "import numpy as np\n",
    "\n",
    "arr = np.array([1, 2, 3, 4, 5])\n",
    "element_to_remove = 3\n",
    "\n",
    "# Exclude the element using slicing (start:stop:step)\n",
    "removed_array = arr[:element_to_remove]  # Elements before the index\n",
    "removed_array = np.concatenate((removed_array, arr[element_to_remove + 1:]))\n",
    "# Alternatively (excluding both start and end elements)\n",
    "# removed_array = np.concatenate((arr[:element_to_remove], arr[element_to_remove+1:]))\n",
    "\n",
    "print(removed_array)  # Output: [1 2 4 5]\n"
   ]
  }
 ],
 "metadata": {
  "language_info": {
   "name": "python"
  }
 },
 "nbformat": 4,
 "nbformat_minor": 2
}
